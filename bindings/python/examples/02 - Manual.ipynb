{
 "cells": [
  {
   "cell_type": "code",
   "execution_count": 1,
   "id": "878fc5c9-9903-4cfe-ac62-b2fc0bb0a3b6",
   "metadata": {},
   "outputs": [],
   "source": [
    "import sleqp"
   ]
  },
  {
   "cell_type": "code",
   "execution_count": 2,
   "id": "dbe25c0f-0aa5-4222-8277-96d756bb626b",
   "metadata": {},
   "outputs": [],
   "source": [
    "import numpy as np"
   ]
  },
  {
   "cell_type": "markdown",
   "id": "9eb5d796-40bb-4a9d-b135-ccde46aa0a49",
   "metadata": {},
   "source": [
    "# Solving an unconstrained problem\n",
    "\n",
    "In the following, we solve the Rosenbrock problem using the standard API rather than the `scipy`-based interface. This offers more fine-grained control over the solution process.\n",
    "\n",
    "Since SLEQP uses the `logging` framework, we begin by setting up basic logging."
   ]
  },
  {
   "cell_type": "code",
   "execution_count": 3,
   "id": "b987dbba-5f06-4a55-b349-75c6498444ff",
   "metadata": {},
   "outputs": [],
   "source": [
    "import logging\n",
    "\n",
    "logging.basicConfig(level=logging.INFO)"
   ]
  },
  {
   "cell_type": "markdown",
   "id": "138c932d-30fa-402f-bf77-c20173e29a29",
   "metadata": {},
   "source": [
    "Problems are given in terms of a function object, which must provide a set of callbacks to evaluate\n",
    "\n",
    "- The optimization objective $f(x)$\n",
    "- The optimization gradient $\\nabla f(x)$\n",
    "- The constraint values $c(x)$\n",
    "- The constraint Jacobian $J_c(x)$\n",
    "- The Hessian of the Lagrangian of the problem, given by $L(x, \\lambda) := f(x) + \\langle c(x), \\lambda \\rangle$, with respect to the primal variables $x$\n",
    "\n",
    "Since we are solving an unconstrained problem, there is no need to provide the constraint-related functions in this case."
   ]
  },
  {
   "cell_type": "code",
   "execution_count": 4,
   "id": "4580840d-5147-46eb-8d4a-43096e967f41",
   "metadata": {},
   "outputs": [],
   "source": [
    "class RosenbrockFunc:\n",
    "\n",
    "  def __init__(self):\n",
    "    self.a = 1.\n",
    "    self.b = 100.\n",
    "\n",
    "  # Set the (primal) value\n",
    "  def set_value(self, v, _):\n",
    "    self.v = v\n",
    "\n",
    "  # Return objective value at current value\n",
    "  def obj_val(self):\n",
    "    [x, y] = self.v\n",
    "    (a, b) = (self.a, self.b)\n",
    "\n",
    "    xsq = x**2\n",
    "\n",
    "    return (a - x)**2 + b*(y - xsq)**2\n",
    "\n",
    "  # Return objective gradient at current value\n",
    "  def obj_grad(self):\n",
    "    [x, y] = self.v\n",
    "    (a, b) = (self.a, self.b)\n",
    "\n",
    "    xsq = x**2\n",
    "\n",
    "    g = np.array([(4*b*x*(xsq - y)) + 2*x - 2*a,\n",
    "                  -2*b*(xsq - y)])\n",
    "\n",
    "    return g\n",
    "\n",
    "  # Unconstrained problem, cons_val / cons_jac not needed\n",
    "\n",
    "  # Return constraint values at current value\n",
    "  # def cons_vals(self):\n",
    "  #   return np.zeros((num_constraints,))\n",
    "\n",
    "  # Return constraint Jacobian at current value\n",
    "  # def cons_jac(self):\n",
    "  #   return np.zeros((num_constraints, num_variables))\n",
    "\n",
    "  # Return product of the Hessian of the Lagrangian\n",
    "  # with the provided multipliers with the given direction\n",
    "  def hess_prod(self, direction, duals):\n",
    "    [x, y] = self.v\n",
    "    (a, b) = (self.a, self.b)\n",
    "    [dx, dy] = direction\n",
    "\n",
    "    xsq = x**2\n",
    "\n",
    "    product = np.array([((8.*b*xsq + 4.*b*(xsq - y) + 2.)*dx - (4.*b*x)*dy),\n",
    "                        ((-4.*b*x)*dx + (2.*b)*dy)])\n",
    "\n",
    "    return product\n"
   ]
  },
  {
   "cell_type": "code",
   "execution_count": 5,
   "id": "fd6d28db-75ea-4f5b-b7de-7ff867198615",
   "metadata": {},
   "outputs": [],
   "source": [
    "var_lb = np.array([-np.inf, -np.inf])\n",
    "var_ub = np.array([np.inf, np.inf])"
   ]
  },
  {
   "cell_type": "code",
   "execution_count": 6,
   "id": "a9f6b08d-6d02-4a16-a9b1-74c95c0f8dd1",
   "metadata": {},
   "outputs": [],
   "source": [
    "func = RosenbrockFunc()"
   ]
  },
  {
   "cell_type": "code",
   "execution_count": 7,
   "id": "33246e6d-6de7-45f7-9798-269b52feba60",
   "metadata": {},
   "outputs": [],
   "source": [
    "problem = sleqp.Problem(func,\n",
    "                        var_lb,\n",
    "                        var_ub)"
   ]
  },
  {
   "cell_type": "code",
   "execution_count": 8,
   "id": "bdc21a33-84b2-436f-9f1f-b7aa3853ec3a",
   "metadata": {},
   "outputs": [],
   "source": [
    "x0 = np.array([0., 0.])"
   ]
  },
  {
   "cell_type": "code",
   "execution_count": 9,
   "id": "fe9ea836-d38b-495e-bf98-994b38e37956",
   "metadata": {},
   "outputs": [],
   "source": [
    "solver = sleqp.Solver(problem, x0)"
   ]
  },
  {
   "cell_type": "code",
   "execution_count": 10,
   "id": "fb2f2b9e-98a6-4de1-b927-b5d46908f1b7",
   "metadata": {},
   "outputs": [
    {
     "name": "stderr",
     "output_type": "stream",
     "text": [
      "INFO:sleqp:Solving a problem with 2 variables, 0 constraints, 0 Jacobian nonzeros\n",
      "INFO:sleqp: Iteration |          Merit  val |       Obj val |      Feas res |      Comp res |      Stat res |       Penalty |   Working set |         LP tr |        EQP tr |   Primal step |     Dual step |          Step type\n",
      "INFO:sleqp:\u001b[1m         0 \u001b[0m|    1.0000000000e+00 |  1.000000e+00 |  0.000000e+00 |               |               |  1.000000e+01 |               |               |               |               |               |                   \n",
      "WARNING:sleqp:Failed to solve trust region subproblem, reason: TRLIB_CLR_FAIL_HARD\n",
      "INFO:sleqp:\u001b[1m         1 \u001b[0m|    1.0000000000e+00 |  1.000000e+00 |  0.000000e+00 |  0.000000e+00 |  2.000000e+00 |  1.000000e+01 |            -- |  5.656854e-01 |  1.000000e+00 |  1.000000e+00 |  0.000000e+00 |           Rejected\n",
      "WARNING:sleqp:Failed to solve trust region subproblem, reason: TRLIB_CLR_FAIL_HARD\n",
      "INFO:sleqp:\u001b[1m         2 \u001b[0m|    1.0000000000e+00 |  1.000000e+00 |  0.000000e+00 |  0.000000e+00 |  2.000000e+00 |  1.000000e+01 |            -- |  5.000000e-01 |  5.000000e-01 |  5.000000e-01 |  0.000000e+00 |           Rejected\n",
      "WARNING:sleqp:Failed to solve trust region subproblem, reason: TRLIB_CLR_FAIL_HARD\n",
      "INFO:sleqp:\u001b[1m         3 \u001b[0m|    1.0000000000e+00 |  1.000000e+00 |  0.000000e+00 |  0.000000e+00 |  2.000000e+00 |  1.000000e+01 |            -- |  2.500000e-01 |  2.500000e-01 |  2.500000e-01 |  0.000000e+00 |           Accepted\n",
      "WARNING:sleqp:Failed to solve trust region subproblem, reason: TRLIB_CLR_FAIL_HARD\n",
      "trlib:  iter inewton type    objective    ||g+||_M^-1    leftmost        lam          gamma         delta         alpha          beta     \n",
      "trlib:      0     0  cg_i -3.563560e-01  1.807977e+00  0.000000e+00  0.000000e+00  1.337208e+01  2.508902e+02  3.985807e-03  1.828049e-02\n",
      "INFO:sleqp:\u001b[1m         4 \u001b[0m|    9.5312500000e-01 |  9.531250e-01 |  0.000000e+00 |  0.000000e+00 |  1.250000e+01 |  1.000000e+01 |            -- |  2.500000e-01 |  2.500000e-01 |  1.060023e-01 |  0.000000e+00 |           Accepted\n",
      "WARNING:sleqp:Failed to solve trust region subproblem, reason: TRLIB_CLR_FAIL_HARD\n",
      "trlib:  iter inewton type    objective    ||g+||_M^-1    leftmost        lam          gamma         delta         alpha          beta     \n",
      "trlib:      0     0  cg_i -2.979212e-01  8.178044e-01  0.000000e+00  0.000000e+00  1.185114e+00  2.357159e+00  4.242395e-01  4.761882e-01\n",
      "INFO:sleqp:\u001b[1m         5 \u001b[0m|    4.8320568511e-01 |  4.832057e-01 |  0.000000e+00 |  0.000000e+00 |  1.011660e+00 |  1.000000e+01 |            -- |  1.083333e-01 |  7.420164e-01 |  5.048373e-01 |  0.000000e+00 |           Rejected\n",
      "WARNING:sleqp:Failed to solve trust region subproblem, reason: TRLIB_CLR_FAIL_HARD\n",
      "trlib:  iter inewton type    objective  gam(i+1)|h(i)|   leftmost        lam          gamma         delta         alpha          beta     \n",
      "trlib:      0     1  cg_b -2.240515e-01  4.105817e-01  0.000000e+00  2.337875e+00  1.185114e+00  2.357159e+00  4.242395e-01  4.761882e-01\n",
      "INFO:sleqp:\u001b[1m         6 \u001b[0m|    4.8320568511e-01 |  4.832057e-01 |  0.000000e+00 |  0.000000e+00 |  1.011660e+00 |  1.000000e+01 |            -- |  1.083333e-01 |  2.524186e-01 |  2.524186e-01 |  0.000000e+00 |           Accepted\n",
      "WARNING:sleqp:Failed to solve trust region subproblem, reason: TRLIB_CLR_FAIL_HARD\n",
      "trlib:  iter inewton type    objective    ||g+||_M^-1    leftmost        lam          gamma         delta         alpha          beta     \n",
      "trlib:      0     0  cg_i -2.011074e-01  9.734739e-01  0.000000e+00  0.000000e+00  1.307962e+01  4.253359e+02  2.351083e-03  5.539347e-03\n",
      "INFO:sleqp:\u001b[1m         7 \u001b[0m|    4.5724955605e-01 |  4.572496e-01 |  0.000000e+00 |  0.000000e+00 |  9.530919e+00 |  1.000000e+01 |            -- |  1.083333e-01 |  2.524186e-01 |  1.054085e-01 |  0.000000e+00 |           Accepted\n",
      "WARNING:sleqp:Failed to solve trust region subproblem, reason: TRLIB_CLR_FAIL_HARD\n",
      "trlib:  iter inewton type    objective    ||g+||_M^-1    leftmost        lam          gamma         delta         alpha          beta     \n",
      "trlib:      0     0  cg_i -7.722304e-02  5.457810e+00  0.000000e+00  0.000000e+00  5.755193e-01  2.144583e+00  4.662911e-01  8.993258e+01\n",
      "INFO:sleqp:\u001b[1m         8 \u001b[0m|    1.8894947260e-01 |  1.889495e-01 |  0.000000e+00 |  0.000000e+00 |  4.150640e-01 |  1.000000e+01 |            -- |  1.083333e-01 |  7.378593e-01 |  4.649224e-01 |  0.000000e+00 |           Rejected\n",
      "WARNING:sleqp:Failed to solve trust region subproblem, reason: TRLIB_CLR_FAIL_HARD\n",
      "INFO:sleqp:\u001b[1m         9 \u001b[0m|    1.8894947260e-01 |  1.889495e-01 |  0.000000e+00 |  0.000000e+00 |  4.150640e-01 |  1.000000e+01 |            -- |  1.083333e-01 |  2.324612e-01 |  2.324612e-01 |  0.000000e+00 |    Accepted (full)\n",
      "trlib:  iter inewton type    objective  gam(i+1)|h(i)|   leftmost        lam          gamma         delta         alpha          beta     \n",
      "trlib:      0     1  cg_b -7.584119e-02  4.727721e+00  0.000000e+00  3.311821e-01  5.755193e-01  2.144583e+00  4.662911e-01  8.993258e+01\n",
      "WARNING:sleqp:Failed to solve trust region subproblem, reason: TRLIB_CLR_FAIL_HARD\n",
      "trlib:  iter inewton type    objective    ||g+||_M^-1    leftmost        lam          gamma         delta         alpha          beta     \n",
      "trlib:      0     0  cg_i -5.382597e-02  3.919036e-01  0.000000e+00  0.000000e+00  8.172736e+00  6.204590e+02  1.611710e-03  2.299449e-03\n",
      "INFO:sleqp:\u001b[1m        10 \u001b[0m|    1.3944866106e-01 |  1.394487e-01 |  0.000000e+00 |  0.000000e+00 |  6.522457e+00 |  1.000000e+01 |            -- |  2.095546e-01 |  4.649224e-01 |  1.041899e-01 |  0.000000e+00 |           Accepted\n",
      "WARNING:sleqp:Failed to solve trust region subproblem, reason: TRLIB_CLR_FAIL_HARD\n",
      "trlib:  iter inewton type    objective    ||g+||_M^-1    leftmost        lam          gamma         delta         alpha          beta     \n",
      "trlib:      0     0  cg_i -2.523857e-04  2.970199e-01  0.000000e+00  0.000000e+00  5.009435e-01  4.971446e+02  2.011487e-03  3.515553e-01\n",
      "INFO:sleqp:\u001b[1m        11 \u001b[0m|    5.4962412042e-02 |  5.496241e-02 |  0.000000e+00 |  0.000000e+00 |  4.491178e-01 |  1.000000e+01 |            -- |  1.113478e-01 |  7.293295e-01 |  2.966719e-01 |  0.000000e+00 |           Rejected\n",
      "WARNING:sleqp:Failed to solve trust region subproblem, reason: TRLIB_CLR_FAIL_HARD\n",
      "trlib:  iter inewton type    objective    ||g+||_M^-1    leftmost        lam          gamma         delta         alpha          beta     \n",
      "trlib:      0     0  cg_i -2.523857e-04  2.970199e-01  0.000000e+00  0.000000e+00  5.009435e-01  4.971446e+02  2.011487e-03  3.515553e-01\n",
      "INFO:sleqp:\u001b[1m        12 \u001b[0m|    5.4962412042e-02 |  5.496241e-02 |  0.000000e+00 |  0.000000e+00 |  4.491178e-01 |  1.000000e+01 |            -- |  1.113478e-01 |  1.483360e-01 |  1.483360e-01 |  0.000000e+00 |           Accepted\n",
      "WARNING:sleqp:Failed to solve trust region subproblem, reason: TRLIB_CLR_FAIL_HARD\n",
      "trlib:  iter inewton type    objective    ||g+||_M^-1    leftmost        lam          gamma         delta         alpha          beta     \n",
      "trlib:      0     0  cg_i -3.993055e-03  1.624796e-01  0.000000e+00  0.000000e+00  2.486248e+00  7.740224e+02  1.291952e-03  4.270794e-03\n",
      "INFO:sleqp:\u001b[1m        13 \u001b[0m|    2.8312626799e-02 |  2.831263e-02 |  0.000000e+00 |  0.000000e+00 |  2.057604e+00 |  1.000000e+01 |            -- |  1.113478e-01 |  1.038352e+00 |  1.317721e-01 |  0.000000e+00 |           Accepted\n",
      "WARNING:sleqp:Failed to solve trust region subproblem, reason: TRLIB_CLR_FAIL_HARD\n",
      "trlib:  iter inewton type    objective    ||g+||_M^-1    leftmost        lam          gamma         delta         alpha          beta     \n",
      "trlib:      0     0  cg_i -1.379824e-03  8.863821e-02  0.000000e+00  0.000000e+00  1.543766e+00  8.635932e+02  1.157953e-03  3.296699e-03\n",
      "INFO:sleqp:\u001b[1m        14 \u001b[0m|    9.6250652109e-03 |  9.625065e-03 |  0.000000e+00 |  0.000000e+00 |  1.309856e+00 |  1.000000e+01 |            -- |  1.113478e-01 |  1.038352e+00 |  1.056120e-01 |  0.000000e+00 |           Accepted\n",
      "WARNING:sleqp:Failed to solve trust region subproblem, reason: TRLIB_CLR_FAIL_HARD\n",
      "trlib:  iter inewton type    objective    ||g+||_M^-1    leftmost        lam          gamma         delta         alpha          beta     \n",
      "trlib:      0     0  cg_i -5.045290e-04  3.831867e-02  0.000000e+00  0.000000e+00  9.728763e-01  9.379920e+02  1.066107e-03  1.551335e-03\n",
      "INFO:sleqp:\u001b[1m        15 \u001b[0m|    2.1893722873e-03 |  2.189372e-03 |  0.000000e+00 |  0.000000e+00 |  8.450914e-01 |  1.000000e+01 |            -- |  1.113478e-01 |  1.038352e+00 |  6.072925e-02 |  0.000000e+00 |           Accepted\n",
      "WARNING:sleqp:Failed to solve trust region subproblem, reason: TRLIB_CLR_FAIL_HARD\n",
      "INFO:sleqp:\u001b[1m        16 \u001b[0m|    2.2379201925e-04 |  2.237920e-04 |  0.000000e+00 |  0.000000e+00 |  2.630589e-01 |  1.000000e+01 |            -- |  6.523874e-02 |  1.038352e+00 |  2.583112e-02 |  0.000000e+00 |           Accepted\n",
      "trlib:  iter inewton type    objective    ||g+||_M^-1    leftmost        lam          gamma         delta         alpha          beta     \n",
      "trlib:      0     0  cg_i -4.627682e-05  1.207740e-02  0.000000e+00  0.000000e+00  3.010941e-01  9.795144e+02  1.020914e-03  1.608950e-03\n",
      "WARNING:sleqp:Failed to solve trust region subproblem, reason: TRLIB_CLR_FAIL_HARD\n",
      "trlib:  iter inewton type    objective    ||g+||_M^-1    leftmost        lam          gamma         delta         alpha          beta     \n",
      "trlib:      0     0  cg_i -1.507154e-06  1.537741e-03  0.000000e+00  0.000000e+00  5.485305e-02  9.981918e+02  1.001811e-03  7.858961e-04\n",
      "INFO:sleqp:\u001b[1m        17 \u001b[0m|    4.4532579158e-06 |  4.453258e-06 |  0.000000e+00 |  0.000000e+00 |  4.835908e-02 |  1.000000e+01 |            -- |  2.782862e-02 |  1.038352e+00 |  3.743974e-03 |  0.000000e+00 |           Accepted\n",
      "WARNING:sleqp:Failed to solve trust region subproblem, reason: TRLIB_CLR_FAIL_HARD\n",
      "trlib:  iter inewton type    objective    ||g+||_M^-1    leftmost        lam          gamma         delta         alpha          beta     \n",
      "INFO:sleqp:\u001b[1m        18 \u001b[0m|    2.4654714232e-09 |  2.465471e-09 |  0.000000e+00 |  0.000000e+00 |  9.715161e-04 |  1.000000e+01 |            -- |  4.047781e-03 |  1.038352e+00 |  9.636117e-05 |  0.000000e+00 |           Accepted\n",
      "trlib:      0     0  cg_i -6.110331e-10  3.851119e-05  0.000000e+00  0.000000e+00  1.105648e-03  1.000320e+03  9.996800e-04  1.213222e-03\n",
      "INFO:sleqp:\u001b[1m               Solution status: \u001b[1m\u001b[32moptimal\u001b[0m\u001b[0m\n",
      "INFO:sleqp:\u001b[1m               Objective value:     8.0458438000e-16\u001b[0m\n",
      "INFO:sleqp:\u001b[1m          Feasibility residuum:     0.0000000000e+00\u001b[0m\n",
      "INFO:sleqp:\u001b[1m         Stationarity residuum:     6.6245117969e-07\u001b[0m\n",
      "INFO:sleqp:\u001b[1m      Complementarity residuum:     0.0000000000e+00\u001b[0m\n",
      "INFO:sleqp:                    Iterations:    18\n",
      "INFO:sleqp:                  Solving time:     0.06s\n",
      "INFO:sleqp:       Setting function values:    37 ( 22.32  µs avg,   826.00  µs total =   1.37%)\n",
      "INFO:sleqp:         Objective evaluations:    19 (  9.89  µs avg,   188.00  µs total =   0.31%)\n",
      "INFO:sleqp:          Gradient evaluations:    14 ( 30.36  µs avg,   425.00  µs total =   0.71%)\n",
      "INFO:sleqp:        Constraint evaluations:     0\n",
      "INFO:sleqp:          Jacobian evaluations:     0\n",
      "INFO:sleqp:              Hessian products:   231 ( 20.27  µs avg,     4.68  ms total =   7.78%)\n",
      "INFO:sleqp:                Accepted steps:    13\n",
      "INFO:sleqp:            SOC Accepted steps:     0\n",
      "INFO:sleqp:                Rejected steps:     5\n",
      "INFO:sleqp:              Failed EQP steps:     0\n",
      "INFO:sleqp:                Factorizations:    18 (  1.44  µs avg,    26.00  µs total =   0.05%)\n",
      "INFO:sleqp:                 Substitutions:    18 (  0.72  µs avg,    13.00  µs total =   0.02%)\n",
      "INFO:sleqp:                   Solved EQPs:    18 (  1.33  ms avg,    23.89  ms total =  41.59%)\n",
      "INFO:sleqp:                 Line searches:    36 ( 30.44  µs avg,     1.10  ms total =   1.91%)\n"
     ]
    }
   ],
   "source": [
    "solver.solve()"
   ]
  },
  {
   "cell_type": "markdown",
   "id": "e47a63ca-7931-4986-b761-0318f1d4b7e2",
   "metadata": {},
   "source": [
    "We can retrieve the solution from the solver:"
   ]
  },
  {
   "cell_type": "code",
   "execution_count": 11,
   "id": "03bd9e4a-6d32-444b-86c4-55531cb8cd12",
   "metadata": {},
   "outputs": [
    {
     "data": {
      "text/plain": [
       "<Status.Optimal: 2>"
      ]
     },
     "execution_count": 11,
     "metadata": {},
     "output_type": "execute_result"
    }
   ],
   "source": [
    "solver.status"
   ]
  },
  {
   "cell_type": "code",
   "execution_count": 12,
   "id": "8fc54fe3-900f-46e2-b2d3-e3d14da781c7",
   "metadata": {},
   "outputs": [],
   "source": [
    "solution = solver.solution"
   ]
  },
  {
   "cell_type": "code",
   "execution_count": 13,
   "id": "ccdca24c-d33c-417d-b7db-03e155048abc",
   "metadata": {},
   "outputs": [
    {
     "data": {
      "text/plain": [
       "array([0.99999998, 0.99999995])"
      ]
     },
     "execution_count": 13,
     "metadata": {},
     "output_type": "execute_result"
    }
   ],
   "source": [
    "solution.primal"
   ]
  },
  {
   "cell_type": "code",
   "execution_count": 14,
   "id": "8d522e75-bc88-4e38-a5ff-bef315fdfe10",
   "metadata": {
    "scrolled": true
   },
   "outputs": [
    {
     "data": {
      "text/plain": [
       "8.04584380003903e-16"
      ]
     },
     "execution_count": 14,
     "metadata": {},
     "output_type": "execute_result"
    }
   ],
   "source": [
    "solution.obj_val"
   ]
  },
  {
   "cell_type": "markdown",
   "id": "9a00c0a7-c26d-4959-b3fd-d069aacb8c28",
   "metadata": {},
   "source": [
    "## Settings\n",
    "\n",
    "The behavior of `SLEQP` can be affected by passing settings to the problem to be used by the solver. As an example, we can solve the problem with a tighter stationarity requirement:"
   ]
  },
  {
   "cell_type": "code",
   "execution_count": 15,
   "id": "9d51a049-56f8-41ac-b250-2921b3530f59",
   "metadata": {},
   "outputs": [],
   "source": [
    "settings = sleqp.Settings(stat_tol=1e-10)\n",
    "\n",
    "problem = sleqp.Problem(func,\n",
    "                        var_lb,\n",
    "                        var_ub,\n",
    "                        settings=settings)"
   ]
  },
  {
   "cell_type": "code",
   "execution_count": 16,
   "id": "b7ddc2ab-5b11-4ead-9071-683373ff78a0",
   "metadata": {},
   "outputs": [],
   "source": [
    "solver = sleqp.Solver(problem, x0)"
   ]
  },
  {
   "cell_type": "code",
   "execution_count": 17,
   "id": "767d16e7-fb03-43e0-ba1a-ee270a71aab0",
   "metadata": {},
   "outputs": [
    {
     "name": "stderr",
     "output_type": "stream",
     "text": [
      "INFO:sleqp:Solving a problem with 2 variables, 0 constraints, 0 Jacobian nonzeros\n",
      "INFO:sleqp: Iteration |          Merit  val |       Obj val |      Feas res |      Comp res |      Stat res |       Penalty |   Working set |         LP tr |        EQP tr |   Primal step |     Dual step |          Step type\n",
      "INFO:sleqp:\u001b[1m         0 \u001b[0m|    1.0000000000e+00 |  1.000000e+00 |  0.000000e+00 |               |               |  1.000000e+01 |               |               |               |               |               |                   \n",
      "WARNING:sleqp:Failed to solve trust region subproblem, reason: TRLIB_CLR_FAIL_HARD\n",
      "INFO:sleqp:\u001b[1m         1 \u001b[0m|    1.0000000000e+00 |  1.000000e+00 |  0.000000e+00 |  0.000000e+00 |  2.000000e+00 |  1.000000e+01 |            -- |  5.656854e-01 |  1.000000e+00 |  1.000000e+00 |  0.000000e+00 |           Rejected\n",
      "WARNING:sleqp:Failed to solve trust region subproblem, reason: TRLIB_CLR_FAIL_HARD\n",
      "INFO:sleqp:\u001b[1m         2 \u001b[0m|    1.0000000000e+00 |  1.000000e+00 |  0.000000e+00 |  0.000000e+00 |  2.000000e+00 |  1.000000e+01 |            -- |  5.000000e-01 |  5.000000e-01 |  5.000000e-01 |  0.000000e+00 |           Rejected\n",
      "WARNING:sleqp:Failed to solve trust region subproblem, reason: TRLIB_CLR_FAIL_HARD\n",
      "INFO:sleqp:\u001b[1m         3 \u001b[0m|    1.0000000000e+00 |  1.000000e+00 |  0.000000e+00 |  0.000000e+00 |  2.000000e+00 |  1.000000e+01 |            -- |  2.500000e-01 |  2.500000e-01 |  2.500000e-01 |  0.000000e+00 |           Accepted\n",
      "WARNING:sleqp:Failed to solve trust region subproblem, reason: TRLIB_CLR_FAIL_HARD\n",
      "trlib:  iter inewton type    objective    ||g+||_M^-1    leftmost        lam          gamma         delta         alpha          beta     \n",
      "trlib:      0     0  cg_i -3.563560e-01  1.807977e+00  0.000000e+00  0.000000e+00  1.337208e+01  2.508902e+02  3.985807e-03  1.828049e-02\n",
      "INFO:sleqp:\u001b[1m         4 \u001b[0m|    9.5312500000e-01 |  9.531250e-01 |  0.000000e+00 |  0.000000e+00 |  1.250000e+01 |  1.000000e+01 |            -- |  2.500000e-01 |  2.500000e-01 |  1.060023e-01 |  0.000000e+00 |           Accepted\n",
      "WARNING:sleqp:Failed to solve trust region subproblem, reason: TRLIB_CLR_FAIL_HARD\n",
      "trlib:  iter inewton type    objective    ||g+||_M^-1    leftmost        lam          gamma         delta         alpha          beta     \n",
      "trlib:      0     0  cg_i -2.979212e-01  8.178044e-01  0.000000e+00  0.000000e+00  1.185114e+00  2.357159e+00  4.242395e-01  4.761882e-01\n",
      "INFO:sleqp:\u001b[1m         5 \u001b[0m|    4.8320568511e-01 |  4.832057e-01 |  0.000000e+00 |  0.000000e+00 |  1.011660e+00 |  1.000000e+01 |            -- |  1.083333e-01 |  7.420164e-01 |  5.048373e-01 |  0.000000e+00 |           Rejected\n",
      "WARNING:sleqp:Failed to solve trust region subproblem, reason: TRLIB_CLR_FAIL_HARD\n",
      "trlib:  iter inewton type    objective  gam(i+1)|h(i)|   leftmost        lam          gamma         delta         alpha          beta     \n",
      "trlib:      0     1  cg_b -2.240515e-01  4.105817e-01  0.000000e+00  2.337875e+00  1.185114e+00  2.357159e+00  4.242395e-01  4.761882e-01\n",
      "INFO:sleqp:\u001b[1m         6 \u001b[0m|    4.8320568511e-01 |  4.832057e-01 |  0.000000e+00 |  0.000000e+00 |  1.011660e+00 |  1.000000e+01 |            -- |  1.083333e-01 |  2.524186e-01 |  2.524186e-01 |  0.000000e+00 |           Accepted\n",
      "WARNING:sleqp:Failed to solve trust region subproblem, reason: TRLIB_CLR_FAIL_HARD\n",
      "trlib:  iter inewton type    objective    ||g+||_M^-1    leftmost        lam          gamma         delta         alpha          beta     \n",
      "trlib:      0     0  cg_i -2.011074e-01  9.734739e-01  0.000000e+00  0.000000e+00  1.307962e+01  4.253359e+02  2.351083e-03  5.539347e-03\n",
      "INFO:sleqp:\u001b[1m         7 \u001b[0m|    4.5724955605e-01 |  4.572496e-01 |  0.000000e+00 |  0.000000e+00 |  9.530919e+00 |  1.000000e+01 |            -- |  1.083333e-01 |  2.524186e-01 |  1.054085e-01 |  0.000000e+00 |           Accepted\n",
      "WARNING:sleqp:Failed to solve trust region subproblem, reason: TRLIB_CLR_FAIL_HARD\n",
      "trlib:  iter inewton type    objective    ||g+||_M^-1    leftmost        lam          gamma         delta         alpha          beta     \n",
      "trlib:      0     0  cg_i -7.722304e-02  5.457810e+00  0.000000e+00  0.000000e+00  5.755193e-01  2.144583e+00  4.662911e-01  8.993258e+01\n",
      "INFO:sleqp:\u001b[1m         8 \u001b[0m|    1.8894947260e-01 |  1.889495e-01 |  0.000000e+00 |  0.000000e+00 |  4.150640e-01 |  1.000000e+01 |            -- |  1.083333e-01 |  7.378593e-01 |  4.649224e-01 |  0.000000e+00 |           Rejected\n",
      "WARNING:sleqp:Failed to solve trust region subproblem, reason: TRLIB_CLR_FAIL_HARD\n",
      "trlib:  iter inewton type    objective  gam(i+1)|h(i)|   leftmost        lam          gamma         delta         alpha          beta     \n",
      "trlib:      0     1  cg_b -7.584119e-02  4.727721e+00  0.000000e+00  3.311821e-01  5.755193e-01  2.144583e+00  4.662911e-01  8.993258e+01\n",
      "INFO:sleqp:\u001b[1m         9 \u001b[0m|    1.8894947260e-01 |  1.889495e-01 |  0.000000e+00 |  0.000000e+00 |  4.150640e-01 |  1.000000e+01 |            -- |  1.083333e-01 |  2.324612e-01 |  2.324612e-01 |  0.000000e+00 |    Accepted (full)\n",
      "WARNING:sleqp:Failed to solve trust region subproblem, reason: TRLIB_CLR_FAIL_HARD\n",
      "trlib:  iter inewton type    objective    ||g+||_M^-1    leftmost        lam          gamma         delta         alpha          beta     \n",
      "trlib: INFO:sleqp:\u001b[1m        10 \u001b[0m|    1.3944866106e-01 |  1.394487e-01 |  0.000000e+00 |  0.000000e+00 |  6.522457e+00 |  1.000000e+01 |            -- |  2.095546e-01 |  4.649224e-01 |  1.041899e-01 |  0.000000e+00 |           Accepted\n",
      "     0     0  cg_i -5.382597e-02  3.919036e-01  0.000000e+00  0.000000e+00  8.172736e+00  6.204590e+02  1.611710e-03  2.299449e-03\n",
      "WARNING:sleqp:Failed to solve trust region subproblem, reason: TRLIB_CLR_FAIL_HARD\n",
      "INFO:sleqp:\u001b[1m        11 \u001b[0m|    5.4962412042e-02 |  5.496241e-02 |  0.000000e+00 |  0.000000e+00 |  4.491178e-01 |  1.000000e+01 |            -- |  1.113478e-01 |  7.293295e-01 |  2.966719e-01 |  0.000000e+00 |           Rejected\n",
      "trlib:  iter inewton type    objective    ||g+||_M^-1    leftmost        lam          gamma         delta         alpha          beta     \n",
      "trlib:      0     0  cg_i -2.523857e-04  2.970199e-01  0.000000e+00  0.000000e+00  5.009435e-01  4.971446e+02  2.011487e-03  3.515553e-01\n",
      "WARNING:sleqp:Failed to solve trust region subproblem, reason: TRLIB_CLR_FAIL_HARD\n",
      "trlib:  iter inewton type    objective    ||g+||_M^-1    leftmost        lam          gamma         delta         alpha          beta     \n",
      "trlib:      0     0  cg_i -2.523857e-04  2.970199e-01  0.000000e+00  0.000000e+00  5.009435e-01  4.971446e+02  2.011487e-03  3.515553e-01\n",
      "INFO:sleqp:\u001b[1m        12 \u001b[0m|    5.4962412042e-02 |  5.496241e-02 |  0.000000e+00 |  0.000000e+00 |  4.491178e-01 |  1.000000e+01 |            -- |  1.113478e-01 |  1.483360e-01 |  1.483360e-01 |  0.000000e+00 |           Accepted\n",
      "WARNING:sleqp:Failed to solve trust region subproblem, reason: TRLIB_CLR_FAIL_HARD\n",
      "trlib:  iter inewton type    objective    ||g+||_M^-1    leftmost        lam          gamma         delta         alpha          beta     \n",
      "trlib:      0     0  cg_i -3.993055e-03  1.624796e-01  0.000000e+00  0.000000e+00  2.486248e+00  7.740224e+02  1.291952e-03  4.270794e-03\n",
      "INFO:sleqp:\u001b[1m        13 \u001b[0m|    2.8312626799e-02 |  2.831263e-02 |  0.000000e+00 |  0.000000e+00 |  2.057604e+00 |  1.000000e+01 |            -- |  1.113478e-01 |  1.038352e+00 |  1.317721e-01 |  0.000000e+00 |           Accepted\n",
      "WARNING:sleqp:Failed to solve trust region subproblem, reason: TRLIB_CLR_FAIL_HARD\n",
      "trlib:  iter inewton type    objective    ||g+||_M^-1    leftmost        lam          gamma         delta         alpha          beta     \n",
      "trlib:      0     0  cg_i -1.379824e-03  8.863821e-02  0.000000e+00  0.000000e+00  1.543766e+00  8.635932e+02  1.157953e-03  3.296699e-03\n",
      "INFO:sleqp:\u001b[1m        14 \u001b[0m|    9.6250652109e-03 |  9.625065e-03 |  0.000000e+00 |  0.000000e+00 |  1.309856e+00 |  1.000000e+01 |            -- |  1.113478e-01 |  1.038352e+00 |  1.056120e-01 |  0.000000e+00 |           Accepted\n",
      "WARNING:sleqp:Failed to solve trust region subproblem, reason: TRLIB_CLR_FAIL_HARD\n",
      "trlib:  iter inewton type    objective    ||g+||_M^-1    leftmost        lam          gamma         delta         alpha          beta     \n",
      "trlib: INFO:sleqp:\u001b[1m        15 \u001b[0m|    2.1893722873e-03 |  2.189372e-03 |  0.000000e+00 |  0.000000e+00 |  8.450914e-01 |  1.000000e+01 |            -- |  1.113478e-01 |  1.038352e+00 |  6.072925e-02 |  0.000000e+00 |           Accepted\n",
      "WARNING:sleqp:Failed to solve trust region subproblem, reason: TRLIB_CLR_FAIL_HARD\n",
      "     0     0  cg_i -5.045290e-04  3.831867e-02  0.000000e+00  0.000000e+00  9.728763e-01  9.379920e+02  1.066107e-03  1.551335e-03\n",
      "trlib:  iter inewton type    objective    ||g+||_M^-1    leftmost        lam          gamma         delta         alpha          beta     \n",
      "trlib:      0     0  cg_i -4.627682e-05  1.207740e-02  0.000000e+00  0.000000e+00  3.010941e-01  9.795144e+02  1.020914e-03  1.608950e-03\n",
      "INFO:sleqp:\u001b[1m        16 \u001b[0m|    2.2379201925e-04 |  2.237920e-04 |  0.000000e+00 |  0.000000e+00 |  2.630589e-01 |  1.000000e+01 |            -- |  6.523874e-02 |  1.038352e+00 |  2.583112e-02 |  0.000000e+00 |           Accepted\n",
      "WARNING:sleqp:Failed to solve trust region subproblem, reason: TRLIB_CLR_FAIL_HARD\n",
      "trlib:  iter inewton type    objective    ||g+||_M^-1    leftmost        lam          gamma         delta         alpha          beta     \n",
      "trlib:      0     0  cg_i -1.507154e-06  1.537741e-03  0.000000e+00  0.000000e+00  5.485305e-02  9.981918e+02  1.001811e-03  7.858961e-04\n",
      "INFO:sleqp:\u001b[1m        17 \u001b[0m|    4.4532579158e-06 |  4.453258e-06 |  0.000000e+00 |  0.000000e+00 |  4.835908e-02 |  1.000000e+01 |            -- |  2.782862e-02 |  1.038352e+00 |  3.743974e-03 |  0.000000e+00 |           Accepted\n",
      "WARNING:sleqp:Failed to solve trust region subproblem, reason: TRLIB_CLR_FAIL_HARD\n",
      "trlib:  iter inewton type    objective    ||g+||_M^-1    leftmost        lam          gamma         delta         alpha          beta     \n",
      "trlib: INFO:sleqp:\u001b[1m        18 \u001b[0m|    2.4654714232e-09 |  2.465471e-09 |  0.000000e+00 |  0.000000e+00 |  9.715161e-04 |  1.000000e+01 |            -- |  4.047781e-03 |  1.038352e+00 |  9.636117e-05 |  0.000000e+00 |           Accepted\n",
      "     0     0  cg_i -6.110331e-10  3.851119e-05  0.000000e+00  0.000000e+00  1.105648e-03  1.000320e+03  9.996800e-04  1.213222e-03\n",
      "WARNING:sleqp:Failed to solve trust region subproblem, reason: TRLIB_CLR_FAIL_HARD\n",
      "trlib:  iter inewton type    objective    ||g+||_M^-1    leftmost        lam          gamma         delta         alpha          beta     \n",
      "trlib:      0     0  cg_i -2.816299e-16  2.044517e-08  0.000000e+00  0.000000e+00  7.508283e-07  1.000858e+03  9.991425e-04  7.414812e-04\n",
      "INFO:sleqp:\u001b[1m        19 \u001b[0m|    8.0458438000e-16 |  8.045844e-16 |  0.000000e+00 |  0.000000e+00 |  6.624512e-07 |  1.000000e+01 |            -- |  4.047781e-04 |  1.038352e+00 |  5.120164e-08 |  0.000000e+00 |           Accepted\n",
      "INFO:sleqp:\u001b[1m               Solution status: \u001b[1m\u001b[32moptimal\u001b[0m\u001b[0m\n",
      "INFO:sleqp:\u001b[1m               Objective value:     9.1212042166e-29\u001b[0m\n",
      "INFO:sleqp:\u001b[1m          Feasibility residuum:     0.0000000000e+00\u001b[0m\n",
      "INFO:sleqp:\u001b[1m         Stationarity residuum:     2.0650148258e-13\u001b[0m\n",
      "INFO:sleqp:\u001b[1m      Complementarity residuum:     0.0000000000e+00\u001b[0m\n",
      "INFO:sleqp:                    Iterations:    19\n",
      "INFO:sleqp:                  Solving time:     0.05s\n",
      "INFO:sleqp:       Setting function values:    39 ( 16.51  µs avg,   644.00  µs total =   1.39%)\n",
      "INFO:sleqp:         Objective evaluations:    20 (  7.65  µs avg,   153.00  µs total =   0.33%)\n",
      "INFO:sleqp:          Gradient evaluations:    15 ( 22.73  µs avg,   341.00  µs total =   0.74%)\n",
      "INFO:sleqp:        Constraint evaluations:     0\n",
      "INFO:sleqp:          Jacobian evaluations:     0\n",
      "INFO:sleqp:              Hessian products:   244 ( 15.19  µs avg,     3.71  ms total =   8.00%)\n",
      "INFO:sleqp:                Accepted steps:    14\n",
      "INFO:sleqp:            SOC Accepted steps:     0\n",
      "INFO:sleqp:                Rejected steps:     5\n",
      "INFO:sleqp:              Failed EQP steps:     0\n",
      "INFO:sleqp:                Factorizations:    19 (  1.05  µs avg,    20.00  µs total =   0.05%)\n",
      "INFO:sleqp:                 Substitutions:    19 (  0.37  µs avg,     7.00  µs total =   0.02%)\n",
      "INFO:sleqp:                   Solved EQPs:    19 (  1.14  ms avg,    21.66  ms total =  49.21%)\n",
      "INFO:sleqp:                 Line searches:    38 ( 29.53  µs avg,     1.12  ms total =   2.55%)\n"
     ]
    }
   ],
   "source": [
    "solver.solve()"
   ]
  },
  {
   "cell_type": "code",
   "execution_count": null,
   "id": "2f0a1fa3-1806-46c9-8e6c-67365adea0b6",
   "metadata": {},
   "outputs": [],
   "source": []
  }
 ],
 "metadata": {
  "kernelspec": {
   "display_name": "Python 3 (ipykernel)",
   "language": "python",
   "name": "python3"
  },
  "language_info": {
   "codemirror_mode": {
    "name": "ipython",
    "version": 3
   },
   "file_extension": ".py",
   "mimetype": "text/x-python",
   "name": "python",
   "nbconvert_exporter": "python",
   "pygments_lexer": "ipython3",
   "version": "3.11.3"
  }
 },
 "nbformat": 4,
 "nbformat_minor": 5
}
