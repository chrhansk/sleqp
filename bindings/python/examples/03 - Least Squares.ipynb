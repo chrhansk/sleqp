{
 "cells": [
  {
   "cell_type": "code",
   "execution_count": 1,
   "id": "2c0423fd-9169-4bcd-b18c-3df732216fb3",
   "metadata": {},
   "outputs": [],
   "source": [
    "import sleqp"
   ]
  },
  {
   "cell_type": "code",
   "execution_count": 2,
   "id": "dc30eb09-3e33-470b-ad6e-c8dd3cc08ed6",
   "metadata": {},
   "outputs": [],
   "source": [
    "import numpy as np\n",
    "import math"
   ]
  },
  {
   "cell_type": "code",
   "execution_count": 3,
   "id": "a6223f75-8a5a-41ff-8877-64612133d3a5",
   "metadata": {},
   "outputs": [],
   "source": [
    "import logging\n",
    "\n",
    "logging.basicConfig(level=logging.INFO)"
   ]
  },
  {
   "cell_type": "markdown",
   "id": "a16fdaaf-4c33-4ef9-9f6e-f7daaeb8829e",
   "metadata": {},
   "source": [
    "# Least-squares problems\n",
    "\n",
    "SLEQP has built-in support for nonlinear least-squares problems. As an example, we can formulate the Rosenbrock problem as a nonlinear least-squares problem. Recall that the original objective is given by\n",
    "\n",
    "$$\n",
    "f(x, y) := (a-x)^2 + b(y-x^2)^2,\n",
    "$$\n",
    "\n",
    "which corresponds to minimizing $\\tfrac{1}{2} \\|r(x, y)\\|^{2}$, where\n",
    "\n",
    "$$\n",
    "r(x, y) := (a - x, \\sqrt{b} (y - x^{2}))\n",
    "$$\n",
    "\n",
    "## Interfaces\n",
    "\n",
    "In order to compute EQP steps with respect to a residual function $r : \\mathbb{R}^{n} \\to \\mathbb{R}^{k}$, `SLEQP` uses the Gauss-Newton approximation of the Hessian of $\\tfrac{1}{2} \\|r(x, y)\\|^{2}$, given by $J_r^{T} J_r$, requring only first-order information. Due to the iterative nature of the underlying\n",
    "alagorithms, we only require products $J_r d_f$ and $d_{a}^{T} J_r$, where $d_f \\in \\mathbb{R}^{n}$ is a forward direction and $d_a \\in \\mathbb{R}^{k}$ is and adjoint direction. If the complete Jacobian $J_r$ is computed, this corresponds to matrix-vector products. It is however sometimes simpler to compute the products directly, in particular, if $J_r$ is too large to fit into memory, or if the Gauss-Newton converges fewer than $\\min(k, n)$ steps. Notably, automatic differentiation software, such as [ADOL-C](https://github.com/coin-or/ADOL-C) often provides interfaces to compute forward / adjoint derivatives."
   ]
  },
  {
   "cell_type": "code",
   "execution_count": 4,
   "id": "67bd7c64-d314-4fbf-ae18-97449fedd101",
   "metadata": {},
   "outputs": [],
   "source": [
    "class RosenbrockLSQFunc:\n",
    "\n",
    "  def __init__(self):\n",
    "    self.a = 1.\n",
    "    self.b = 100.\n",
    "\n",
    "  def set_value(self, values, reason):\n",
    "    self.values = values\n",
    "\n",
    "  def lsq_residuals(self):\n",
    "    x = self.values[0]\n",
    "    y = self.values[1]\n",
    "\n",
    "    return np.array([self.a - x,\n",
    "                     math.sqrt(self.b) * (y - (x * x))])\n",
    "\n",
    "\n",
    "  def lsq_jac_forward(self, forward_direction):\n",
    "    x = self.values[0]\n",
    "    y = self.values[1]\n",
    "\n",
    "    dx = forward_direction[0]\n",
    "    dy = forward_direction[1]\n",
    "\n",
    "    return np.array([-1. * dx,\n",
    "                     math.sqrt(self.b)*(-2.*x*dx + dy)])\n",
    "\n",
    "\n",
    "  def lsq_jac_adjoint(self, adjoint_direction):\n",
    "    x = self.values[0]\n",
    "    y = self.values[1]\n",
    "\n",
    "    dx = adjoint_direction[0]\n",
    "    dy = adjoint_direction[1]\n",
    "\n",
    "    return np.array([-1.*dx - 2*math.sqrt(self.b)*x*dy,\n",
    "                     math.sqrt(self.b)*(dy)])\n"
   ]
  },
  {
   "cell_type": "code",
   "execution_count": 5,
   "id": "a935c368-9f20-45d2-8255-64b2966911d2",
   "metadata": {},
   "outputs": [],
   "source": [
    "var_lb = np.array([-np.inf, -np.inf])\n",
    "var_ub = np.array([np.inf, np.inf])\n",
    "\n",
    "x0 = np.array([0., 0.])\n",
    "\n",
    "num_residuals = 2"
   ]
  },
  {
   "cell_type": "code",
   "execution_count": 6,
   "id": "abf98167-15ec-41fe-be21-507a65ce7e59",
   "metadata": {},
   "outputs": [],
   "source": [
    "func = RosenbrockLSQFunc()"
   ]
  },
  {
   "cell_type": "code",
   "execution_count": 7,
   "id": "6a50a67f-bb1a-4a5b-8d68-cb27e650fe7a",
   "metadata": {},
   "outputs": [],
   "source": [
    "problem = sleqp.LSQProblem(func,\n",
    "                           num_residuals,\n",
    "                           var_lb,\n",
    "                           var_ub)"
   ]
  },
  {
   "cell_type": "code",
   "execution_count": 8,
   "id": "d6cfb200-a2b4-4d43-8322-a13878e3ef39",
   "metadata": {},
   "outputs": [],
   "source": [
    "solver = sleqp.Solver(problem, x0)"
   ]
  },
  {
   "cell_type": "code",
   "execution_count": 9,
   "id": "f74d0820-ca7b-4ffe-8ac8-acb121330c0b",
   "metadata": {},
   "outputs": [
    {
     "name": "stderr",
     "output_type": "stream",
     "text": [
      "INFO:sleqp:Solving a problem with 2 variables, 0 constraints, 0 Jacobian nonzeros\n",
      "INFO:sleqp: Iteration |          Merit  val |       Obj val |      Feas res |     Slack res |      Stat res |       Penalty |   Working set |         LP tr |        EQP tr |   Primal step |     Dual step |          Step type\n",
      "INFO:sleqp:\u001b[1m         0 \u001b[0m|    5.0000000000e-01 |  5.000000e-01 |  0.000000e+00 |               |               |  1.000000e+01 |               |               |               |               |               |                   \n",
      "INFO:sleqp:\u001b[1m         1 \u001b[0m|    5.0000000000e-01 |  5.000000e-01 |  0.000000e+00 |  0.000000e+00 |  1.000000e+00 |  1.000000e+01 |            -- |  5.656854e-01 |  1.000000e+00 |  1.000000e+00 |  0.000000e+00 |           Rejected\n",
      "INFO:sleqp:\u001b[1m         2 \u001b[0m|    5.0000000000e-01 |  5.000000e-01 |  0.000000e+00 |  0.000000e+00 |  1.000000e+00 |  1.000000e+01 |            -- |  5.000000e-01 |  5.000000e-01 |  5.000000e-01 |  0.000000e+00 |           Rejected\n",
      "INFO:sleqp:\u001b[1m         3 \u001b[0m|    5.0000000000e-01 |  5.000000e-01 |  0.000000e+00 |  0.000000e+00 |  1.000000e+00 |  1.000000e+01 |            -- |  2.500000e-01 |  2.500000e-01 |  2.500000e-01 |  0.000000e+00 |           Accepted\n",
      "WARNING:sleqp:Newton stationarity residuum of 1.218154e-01 exceeds desired stationarity tolerance of 1.000000e-06\n",
      "INFO:sleqp:\u001b[1m         4 \u001b[0m|    4.7656250000e-01 |  4.765625e-01 |  0.000000e+00 |  0.000000e+00 |  6.250000e+00 |  1.000000e+01 |            -- |  2.500000e-01 |  2.500000e-01 |  2.500000e-01 |  0.000000e+00 |           Accepted\n",
      "WARNING:sleqp:Newton stationarity residuum of 1.521243e-02 exceeds desired stationarity tolerance of 1.000000e-06\n",
      "INFO:sleqp:\u001b[1m         5 \u001b[0m|    2.3220828032e-01 |  2.322083e-01 |  0.000000e+00 |  0.000000e+00 |  3.940229e+00 |  1.000000e+01 |            -- |  2.327714e-01 |  5.000000e-01 |  5.000000e-01 |  0.000000e+00 |           Rejected\n",
      "WARNING:sleqp:Newton stationarity residuum of 4.261440e-02 exceeds desired stationarity tolerance of 1.000000e-06\n",
      "INFO:sleqp:\u001b[1m         6 \u001b[0m|    2.3220828032e-01 |  2.322083e-01 |  0.000000e+00 |  0.000000e+00 |  3.940229e+00 |  1.000000e+01 |            -- |  1.770728e-01 |  2.500000e-01 |  2.500000e-01 |  0.000000e+00 |           Accepted\n",
      "WARNING:sleqp:Newton stationarity residuum of 4.087161e-03 exceeds desired stationarity tolerance of 1.000000e-06\n",
      "INFO:sleqp:\u001b[1m         7 \u001b[0m|    1.1961593746e-01 |  1.196159e-01 |  0.000000e+00 |  0.000000e+00 |  3.234897e+00 |  1.000000e+01 |            -- |  1.770728e-01 |  5.000000e-01 |  5.000000e-01 |  0.000000e+00 |           Rejected\n",
      "WARNING:sleqp:Newton stationarity residuum of 1.627693e-02 exceeds desired stationarity tolerance of 1.000000e-06\n",
      "INFO:sleqp:\u001b[1m         8 \u001b[0m|    1.1961593746e-01 |  1.196159e-01 |  0.000000e+00 |  0.000000e+00 |  3.234897e+00 |  1.000000e+01 |            -- |  1.770728e-01 |  2.500000e-01 |  2.500000e-01 |  0.000000e+00 |           Accepted\n",
      "WARNING:sleqp:Newton stationarity residuum of 3.918473e-01 exceeds desired stationarity tolerance of 1.000000e-06\n",
      "INFO:sleqp:\u001b[1m         9 \u001b[0m|    5.3921055249e-02 |  5.392106e-02 |  0.000000e+00 |  0.000000e+00 |  3.056195e+00 |  1.000000e+01 |            -- |  1.770728e-01 |  5.000000e-01 |  4.621532e-01 |  0.000000e+00 |           Rejected\n",
      "WARNING:sleqp:Newton stationarity residuum of 5.259534e-03 exceeds desired stationarity tolerance of 1.000000e-06\n",
      "INFO:sleqp:\u001b[1m        10 \u001b[0m|    5.3921055249e-02 |  5.392106e-02 |  0.000000e+00 |  0.000000e+00 |  3.056195e+00 |  1.000000e+01 |            -- |  1.770728e-01 |  2.310766e-01 |  2.310766e-01 |  0.000000e+00 |           Accepted\n",
      "WARNING:sleqp:Newton stationarity residuum of 2.367577e-01 exceeds desired stationarity tolerance of 1.000000e-06\n",
      "INFO:sleqp:\u001b[1m        11 \u001b[0m|    1.8496413051e-02 |  1.849641e-02 |  0.000000e+00 |  0.000000e+00 |  2.387127e+00 |  1.000000e+01 |            -- |  1.770728e-01 |  4.621532e-01 |  2.688621e-01 |  0.000000e+00 |           Accepted\n",
      "WARNING:sleqp:Newton stationarity residuum of 1.623261e-02 exceeds desired stationarity tolerance of 1.000000e-06\n",
      "INFO:sleqp:\u001b[1m        12 \u001b[0m|    1.3174875972e-02 |  1.317488e-02 |  0.000000e+00 |  0.000000e+00 |  3.246521e+00 |  1.000000e+01 |            -- |  1.770728e-01 |  4.621532e-01 |  1.623261e-02 |  0.000000e+00 |           Accepted\n",
      "INFO:sleqp:\u001b[1m               Solution status: \u001b[1m\u001b[32moptimal\u001b[0m\u001b[0m\n",
      "INFO:sleqp:\u001b[1m               Objective value:     6.7176436460e-31\u001b[0m\n",
      "INFO:sleqp:\u001b[1m                     Violation:     0.0000000000e+00\u001b[0m\n",
      "INFO:sleqp:                    Iterations:    12\n",
      "INFO:sleqp:                  Solving time:     0.05s\n",
      "INFO:sleqp:       Setting function values:    25 ( 30.76  µs avg,   769.00  µs total =   1.66%)\n",
      "INFO:sleqp:          Residual evaluations:    20 ( 17.95  µs avg,   359.00  µs total =   0.77%)\n",
      "INFO:sleqp:       Residual forward sweeps:   183 ( 11.56  µs avg,     2.12  ms total =   4.56%)\n",
      "INFO:sleqp:       Residual adjoint sweeps:   191 (  9.58  µs avg,     1.83  ms total =   3.94%)\n",
      "INFO:sleqp:        Constraint evaluations:     0\n",
      "INFO:sleqp:          Jacobian evaluations:     0\n",
      "INFO:sleqp:              Hessian products:   183 ( 24.87  µs avg,     4.55  ms total =   9.81%)\n",
      "INFO:sleqp:                Accepted steps:     7\n",
      "INFO:sleqp:            SOC Accepted steps:     0\n",
      "INFO:sleqp:                Rejected steps:     5\n",
      "INFO:sleqp:              Failed EQP steps:     0\n",
      "INFO:sleqp:                Factorizations:    12 (  1.42  µs avg,    17.00  µs total =   0.04%)\n",
      "INFO:sleqp:                 Substitutions:    12 (  1.00  µs avg,    12.00  µs total =   0.03%)\n",
      "INFO:sleqp:                   Solved EQPs:    12 (  1.11  ms avg,    13.28  ms total =  31.41%)\n",
      "INFO:sleqp:                 Line searches:    24 ( 51.88  µs avg,     1.25  ms total =   2.94%)\n"
     ]
    }
   ],
   "source": [
    "solver.solve()"
   ]
  },
  {
   "cell_type": "code",
   "execution_count": 10,
   "id": "ac21d133-0ca1-467f-935a-7973612e46d3",
   "metadata": {},
   "outputs": [],
   "source": [
    "solution = solver.solution"
   ]
  },
  {
   "cell_type": "code",
   "execution_count": 11,
   "id": "0eb8c191-60d0-486c-88db-7d175760d6ce",
   "metadata": {
    "scrolled": true
   },
   "outputs": [
    {
     "data": {
      "text/plain": [
       "array([1., 1.])"
      ]
     },
     "execution_count": 11,
     "metadata": {},
     "output_type": "execute_result"
    }
   ],
   "source": [
    "solution.primal"
   ]
  }
 ],
 "metadata": {
  "kernelspec": {
   "display_name": "Python 3 (ipykernel)",
   "language": "python",
   "name": "python3"
  },
  "language_info": {
   "codemirror_mode": {
    "name": "ipython",
    "version": 3
   },
   "file_extension": ".py",
   "mimetype": "text/x-python",
   "name": "python",
   "nbconvert_exporter": "python",
   "pygments_lexer": "ipython3",
   "version": "3.11.3"
  }
 },
 "nbformat": 4,
 "nbformat_minor": 5
}
